{
 "cells": [
  {
   "cell_type": "markdown",
   "metadata": {},
   "source": [
    "# Performing image classification through CNN"
   ]
  },
  {
   "cell_type": "code",
   "execution_count": 70,
   "metadata": {},
   "outputs": [],
   "source": [
    "import tensorflow as tf"
   ]
  },
  {
   "cell_type": "code",
   "execution_count": 71,
   "metadata": {},
   "outputs": [],
   "source": [
    "from tensorflow.keras.layers import Input, Conv2D, Dense, Flatten, Dropout, GlobalMaxPooling2D\n",
    "from tensorflow.keras.models import Model"
   ]
  },
  {
   "cell_type": "code",
   "execution_count": 72,
   "metadata": {},
   "outputs": [],
   "source": [
    "import numpy as np\n",
    "import matplotlib.pyplot as plt"
   ]
  },
  {
   "cell_type": "code",
   "execution_count": 73,
   "metadata": {},
   "outputs": [],
   "source": [
    "cifar10 = tf.keras.datasets.cifar10"
   ]
  },
  {
   "cell_type": "code",
   "execution_count": 74,
   "metadata": {},
   "outputs": [
    {
     "name": "stdout",
     "output_type": "stream",
     "text": [
      "x_train.shape: (50000, 32, 32, 3)\n",
      "y_train.shape (50000,)\n"
     ]
    }
   ],
   "source": [
    "(x_train, y_train), (x_test, y_test) = cifar10.load_data()\n",
    "x_train, x_test = x_train / 255.0, x_test / 255.0\n",
    "y_train, y_test = y_train.flatten(), y_test.flatten()\n",
    "print(\"x_train.shape:\", x_train.shape)\n",
    "print(\"y_train.shape\", y_train.shape)"
   ]
  },
  {
   "cell_type": "code",
   "execution_count": 75,
   "metadata": {},
   "outputs": [],
   "source": [
    "from sklearn.model_selection import train_test_split"
   ]
  },
  {
   "cell_type": "code",
   "execution_count": 76,
   "metadata": {},
   "outputs": [],
   "source": [
    "x_train, x_val , y_train, y_val =  train_test_split(x_train, y_train, test_size=0.2, random_state=42)"
   ]
  },
  {
   "cell_type": "code",
   "execution_count": 77,
   "metadata": {},
   "outputs": [
    {
     "name": "stdout",
     "output_type": "stream",
     "text": [
      "x_val.shape (10000, 32, 32, 3)\n",
      "y_val.shape (10000,)\n"
     ]
    }
   ],
   "source": [
    "print(\"x_val.shape\", x_val.shape)\n",
    "print(\"y_val.shape\", y_val.shape)"
   ]
  },
  {
   "cell_type": "code",
   "execution_count": 78,
   "metadata": {},
   "outputs": [
    {
     "name": "stdout",
     "output_type": "stream",
     "text": [
      "number of classes: 10\n"
     ]
    }
   ],
   "source": [
    "K = len(set(y_train))\n",
    "print(\"number of classes:\", K)"
   ]
  },
  {
   "cell_type": "code",
   "execution_count": 79,
   "metadata": {},
   "outputs": [],
   "source": [
    "i = Input(shape=x_train[0].shape)\n",
    "x = Conv2D(32, (3, 3), strides=2, activation='relu')(i)\n",
    "x = Conv2D(64, (3, 3), strides=2, activation='relu')(x)\n",
    "x = Conv2D(128, (3, 3), strides=2, activation='relu')(x)\n",
    "\n",
    "x = Flatten()(x)\n",
    "\n",
    "x = Dense(1024, activation='relu')(x)\n",
    "\n",
    "x = Dense(K, activation='softmax')(x)\n",
    "\n",
    "model = Model(i, x)"
   ]
  },
  {
   "cell_type": "code",
   "execution_count": 80,
   "metadata": {},
   "outputs": [
    {
     "name": "stdout",
     "output_type": "stream",
     "text": [
      "Epoch 1/10\n",
      "1250/1250 [==============================] - 36s 28ms/step - loss: 1.5059 - accuracy: 0.4541 - val_loss: 1.2743 - val_accuracy: 0.5392\n",
      "Epoch 2/10\n",
      "1250/1250 [==============================] - 34s 28ms/step - loss: 1.1664 - accuracy: 0.5822 - val_loss: 1.1152 - val_accuracy: 0.6024\n",
      "Epoch 3/10\n",
      "1250/1250 [==============================] - 34s 27ms/step - loss: 0.9843 - accuracy: 0.6517 - val_loss: 1.0974 - val_accuracy: 0.6182\n",
      "Epoch 4/10\n",
      "1250/1250 [==============================] - 34s 27ms/step - loss: 0.8258 - accuracy: 0.7081 - val_loss: 0.9902 - val_accuracy: 0.6573\n",
      "Epoch 5/10\n",
      "1250/1250 [==============================] - 34s 27ms/step - loss: 0.6702 - accuracy: 0.7627 - val_loss: 1.0111 - val_accuracy: 0.6645\n",
      "Epoch 6/10\n",
      "1250/1250 [==============================] - 34s 27ms/step - loss: 0.5120 - accuracy: 0.8212 - val_loss: 1.0857 - val_accuracy: 0.6573\n",
      "Epoch 7/10\n",
      "1250/1250 [==============================] - 34s 27ms/step - loss: 0.3723 - accuracy: 0.8700 - val_loss: 1.2688 - val_accuracy: 0.6575\n",
      "Epoch 8/10\n",
      "1250/1250 [==============================] - 34s 27ms/step - loss: 0.2565 - accuracy: 0.9097 - val_loss: 1.3845 - val_accuracy: 0.6660\n",
      "Epoch 9/10\n",
      "1250/1250 [==============================] - 34s 27ms/step - loss: 0.1808 - accuracy: 0.9373 - val_loss: 1.5949 - val_accuracy: 0.6529\n",
      "Epoch 10/10\n",
      "1250/1250 [==============================] - 34s 27ms/step - loss: 0.1499 - accuracy: 0.9487 - val_loss: 1.8342 - val_accuracy: 0.6558\n"
     ]
    }
   ],
   "source": [
    "# Compile and fit\n",
    "model.compile(optimizer='adam',\n",
    "              loss='sparse_categorical_crossentropy',\n",
    "              metrics=['accuracy'])\n",
    "r = model.fit(x_train, y_train, validation_data=(x_val, y_val), epochs=10)"
   ]
  },
  {
   "cell_type": "code",
   "execution_count": 81,
   "metadata": {},
   "outputs": [
    {
     "data": {
      "text/plain": [
       "<matplotlib.legend.Legend at 0x134d19aa340>"
      ]
     },
     "execution_count": 81,
     "metadata": {},
     "output_type": "execute_result"
    },
    {
     "data": {
      "image/png": "[encoded data removed]",
      "text/plain": [
       "<Figure size 432x288 with 1 Axes>"
      ]
     },
     "metadata": {
      "needs_background": "light"
     },
     "output_type": "display_data"
    }
   ],
   "source": [
    "# Plot loss per iteration\n",
    "import matplotlib.pyplot as plt\n",
    "plt.plot(r.history['loss'], label='loss')\n",
    "plt.plot(r.history['val_loss'], label='val_loss')\n",
    "plt.legend()"
   ]
  },
  {
   "cell_type": "code",
   "execution_count": 82,
   "metadata": {},
   "outputs": [
    {
     "data": {
      "text/plain": [
       "<matplotlib.legend.Legend at 0x134d1c0abe0>"
      ]
     },
     "execution_count": 82,
     "metadata": {},
     "output_type": "execute_result"
    },
    {
     "data": {
      "image/png": "[encoded data removed]",
      "text/plain": [
       "<Figure size 432x288 with 1 Axes>"
      ]
     },
     "metadata": {
      "needs_background": "light"
     },
     "output_type": "display_data"
    }
   ],
   "source": [
    "# Plot accuracy per iteration\n",
    "plt.plot(r.history['accuracy'], label='acc')\n",
    "plt.plot(r.history['val_accuracy'], label='val_acc')\n",
    "plt.legend()"
   ]
  },
  {
   "cell_type": "code",
   "execution_count": 83,
   "metadata": {},
   "outputs": [],
   "source": [
    "labels = '''airplane\n",
    "            automobile\n",
    "            bird\n",
    "            cat\n",
    "            deer\n",
    "            dog\n",
    "            frog\n",
    "            horse\n",
    "            ship\n",
    "            truck'''.split()"
   ]
  },
  {
   "cell_type": "code",
   "execution_count": 87,
   "metadata": {},
   "outputs": [
    {
     "data": {
      "image/png": "[encoded data removed]",
      "text/plain": [
       "<Figure size 864x144 with 1 Axes>"
      ]
     },
     "metadata": {
      "needs_background": "light"
     },
     "output_type": "display_data"
    }
   ],
   "source": [
    "\n",
    "selected = 88\n",
    "\n",
    "\n",
    "res = model.predict(x_test[selected:selected+1])\n",
    "\n",
    "arr = np.array(res[0])\n",
    "result = np.where(arr == np.amax(arr))\n",
    "\n",
    "plt.figure(figsize=(12,2))\n",
    "plt.imshow(x_test[selected], cmap='gray')\n",
    "\n",
    "plt.title(\"Predicted: %s\" % (labels[int(result[0])]));"
   ]
  },
  {
   "cell_type": "raw",
   "metadata": {},
   "source": [
    "# The model gives Accuracy of about 94.87% for categorising the testing samples. The concept is followed for CNN starting with convolution layer and then dense layer, converting to a vector and finally using activation function to classify the categories. "
   ]
  },
  {
   "cell_type": "code",
   "execution_count": null,
   "metadata": {},
   "outputs": [],
   "source": [
    "\n"
   ]
  }
 ],
 "metadata": {
  "kernelspec": {
   "display_name": "Python 3",
   "language": "python",
   "name": "python3"
  },
  "language_info": {
   "codemirror_mode": {
    "name": "ipython",
    "version": 3
   },
   "file_extension": ".py",
   "mimetype": "text/x-python",
   "name": "python",
   "nbconvert_exporter": "python",
   "pygments_lexer": "ipython3",
   "version": "3.8.5"
  }
 },
 "nbformat": 4,
 "nbformat_minor": 4
}
